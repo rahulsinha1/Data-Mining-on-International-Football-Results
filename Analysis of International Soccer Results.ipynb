{
 "cells": [
  {
   "cell_type": "code",
   "execution_count": 1,
   "metadata": {},
   "outputs": [
    {
     "name": "stdout",
     "output_type": "stream",
     "text": [
      "             date   home_team        away_team  home_score  away_score  \\\n",
      "0      1872-11-30    Scotland          England           0           0   \n",
      "1      1873-03-08     England         Scotland           4           2   \n",
      "2      1874-03-07    Scotland          England           2           1   \n",
      "3      1875-03-06     England         Scotland           2           2   \n",
      "4      1876-03-04    Scotland          England           3           0   \n",
      "...           ...         ...              ...         ...         ...   \n",
      "41635  2020-09-08  Luxembourg       Montenegro           0           1   \n",
      "41636  2020-09-08      Cyprus       Azerbaijan           0           1   \n",
      "41637  2020-09-08     Armenia          Estonia           2           0   \n",
      "41638  2020-09-08     Georgia  North Macedonia           1           1   \n",
      "41639  2020-09-08  San Marino    Liechtenstein           0           2   \n",
      "\n",
      "                tournament             city     country  neutral  \n",
      "0                 Friendly          Glasgow    Scotland    False  \n",
      "1                 Friendly           London     England    False  \n",
      "2                 Friendly          Glasgow    Scotland    False  \n",
      "3                 Friendly           London     England    False  \n",
      "4                 Friendly          Glasgow    Scotland    False  \n",
      "...                    ...              ...         ...      ...  \n",
      "41635  UEFA Nations League  Luxembourg City  Luxembourg    False  \n",
      "41636  UEFA Nations League          Nicosia      Cyprus    False  \n",
      "41637  UEFA Nations League          Yerevan     Armenia    False  \n",
      "41638  UEFA Nations League          Tbilisi     Georgia    False  \n",
      "41639  UEFA Nations League           Rimini       Italy     True  \n",
      "\n",
      "[41640 rows x 9 columns]\n"
     ]
    }
   ],
   "source": [
    "import pandas as pd\n",
    "\n",
    "df = pd.read_csv ('results.csv')\n",
    "print (df)"
   ]
  },
  {
   "cell_type": "code",
   "execution_count": null,
   "metadata": {},
   "outputs": [],
   "source": []
  }
 ],
 "metadata": {
  "kernelspec": {
   "display_name": "Python 3",
   "language": "python",
   "name": "python3"
  },
  "language_info": {
   "codemirror_mode": {
    "name": "ipython",
    "version": 3
   },
   "file_extension": ".py",
   "mimetype": "text/x-python",
   "name": "python",
   "nbconvert_exporter": "python",
   "pygments_lexer": "ipython3",
   "version": "3.8.3"
  }
 },
 "nbformat": 4,
 "nbformat_minor": 4
}
